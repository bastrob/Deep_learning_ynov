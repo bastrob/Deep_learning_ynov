{
  "nbformat": 4,
  "nbformat_minor": 0,
  "metadata": {
    "colab": {
      "name": "sentiment140.ipynb",
      "provenance": []
    },
    "kernelspec": {
      "name": "python3",
      "display_name": "Python 3"
    }
  },
  "cells": [
    {
      "cell_type": "code",
      "metadata": {
        "id": "aOyP8CqoVUWn",
        "colab_type": "code",
        "colab": {
          "base_uri": "https://localhost:8080/",
          "height": 35
        },
        "outputId": "43e0993c-d00f-42c8-92bd-b40ea986e28e"
      },
      "source": [
        "import pandas as pd\n",
        "from bs4 import BeautifulSoup\n",
        "import re\n",
        "from keras.preprocessing.text import Tokenizer\n",
        "from keras.preprocessing.sequence import pad_sequences\n",
        "from sklearn.model_selection import train_test_split\n",
        "import tensorflow as tf"
      ],
      "execution_count": 1,
      "outputs": [
        {
          "output_type": "stream",
          "text": [
            "Using TensorFlow backend.\n"
          ],
          "name": "stderr"
        }
      ]
    },
    {
      "cell_type": "code",
      "metadata": {
        "id": "J5Rv_gIMVaXF",
        "colab_type": "code",
        "colab": {}
      },
      "source": [
        "s140 = pd.read_csv(\"/content/10ksentiment140.csv\",sep=',',encoding='utf-8')"
      ],
      "execution_count": 0,
      "outputs": []
    },
    {
      "cell_type": "code",
      "metadata": {
        "id": "itzjx946AuFr",
        "colab_type": "code",
        "colab": {
          "base_uri": "https://localhost:8080/",
          "height": 256
        },
        "outputId": "d6926109-4400-4cea-ce5f-c089cef1ac33"
      },
      "source": [
        "s140.info()"
      ],
      "execution_count": 13,
      "outputs": [
        {
          "output_type": "stream",
          "text": [
            "<class 'pandas.core.frame.DataFrame'>\n",
            "RangeIndex: 9999 entries, 0 to 9998\n",
            "Data columns (total 6 columns):\n",
            " #   Column                                                                                                               Non-Null Count  Dtype \n",
            "---  ------                                                                                                               --------------  ----- \n",
            " 0   0                                                                                                                    9999 non-null   int64 \n",
            " 1   1467810369                                                                                                           9999 non-null   int64 \n",
            " 2   Mon Apr 06 22:19:45 PDT 2009                                                                                         9999 non-null   object\n",
            " 3   NO_QUERY                                                                                                             9999 non-null   object\n",
            " 4   _TheSpecialOne_                                                                                                      9999 non-null   object\n",
            " 5   @switchfoot http://twitpic.com/2y1zl - Awww, that's a bummer.  You shoulda got David Carr of Third Day to do it. ;D  9999 non-null   object\n",
            "dtypes: int64(2), object(4)\n",
            "memory usage: 468.8+ KB\n"
          ],
          "name": "stdout"
        }
      ]
    }
  ]
}