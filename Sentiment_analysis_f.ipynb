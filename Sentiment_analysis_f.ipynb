{
  "nbformat": 4,
  "nbformat_minor": 0,
  "metadata": {
    "accelerator": "GPU",
    "colab": {
      "name": "Sentiment_analysis_f.ipynb",
      "provenance": [],
      "include_colab_link": true
    },
    "kernelspec": {
      "display_name": "Python 3",
      "language": "python",
      "name": "python3"
    },
    "language_info": {
      "codemirror_mode": {
        "name": "ipython",
        "version": 3
      },
      "file_extension": ".py",
      "mimetype": "text/x-python",
      "name": "python",
      "nbconvert_exporter": "python",
      "pygments_lexer": "ipython3",
      "version": "3.8.1"
    }
  },
  "cells": [
    {
      "cell_type": "markdown",
      "metadata": {
        "id": "view-in-github",
        "colab_type": "text"
      },
      "source": [
        "<a href=\"https://colab.research.google.com/github/bastrob/Deep_learning_ynov/blob/master/Sentiment_analysis_f.ipynb\" target=\"_parent\"><img src=\"https://colab.research.google.com/assets/colab-badge.svg\" alt=\"Open In Colab\"/></a>"
      ]
    },
    {
      "cell_type": "code",
      "metadata": {
        "colab_type": "code",
        "id": "Jb-OknTvZgu_",
        "colab": {}
      },
      "source": [
        "import tensorflow as tf"
      ],
      "execution_count": 0,
      "outputs": []
    },
    {
      "cell_type": "code",
      "metadata": {
        "id": "ZIxdSN1Yg3Xs",
        "colab_type": "code",
        "outputId": "91108109-1417-4e35-e978-6462c6361a7d",
        "colab": {}
      },
      "source": [
        "5*4"
      ],
      "execution_count": 0,
      "outputs": [
        {
          "output_type": "execute_result",
          "data": {
            "text/plain": [
              "20"
            ]
          },
          "metadata": {
            "tags": []
          },
          "execution_count": 1
        }
      ]
    },
    {
      "cell_type": "code",
      "metadata": {
        "id": "wzAVL7LFhy-1",
        "colab_type": "code",
        "outputId": "787f1f7d-a78f-4a8f-8992-6e2c9c7d4069",
        "colab": {
          "base_uri": "https://localhost:8080/",
          "height": 54
        }
      },
      "source": [
        "mnist = tf.keras.datasets.mnist\n",
        "\n",
        "(x_train, y_train), (x_test, y_test) = mnist.load_data()\n",
        "x_train, x_test = x_train / 255.0, x_test / 255.0\n"
      ],
      "execution_count": 0,
      "outputs": [
        {
          "output_type": "stream",
          "text": [
            "Downloading data from https://storage.googleapis.com/tensorflow/tf-keras-datasets/mnist.npz\n",
            "11493376/11490434 [==============================] - 0s 0us/step\n"
          ],
          "name": "stdout"
        }
      ]
    },
    {
      "cell_type": "code",
      "metadata": {
        "id": "4X5Px3sPXzks",
        "colab_type": "code",
        "colab": {}
      },
      "source": [
        "# A utiliser pour sauvegarder le modele\n",
        "\n",
        "from keras.models import model_from_yaml\n",
        "def saveModel(model, savename):\n",
        "  # serialize model to YAML\n",
        "  model_yaml = model.to_yaml()\n",
        "  with open(savename+\".yaml\", \"w\") as yaml_file:\n",
        "    yaml_file.write(model_yaml)\n",
        "    print(\"Yaml Model \",savename,\".yaml saved to disk\")\n",
        "  # serialize weights to HDF5\n",
        "  model.save_weights(savename+\".h5\")\n",
        "  print(\"Weights \",savename,\".h5 saved to disk\")\n"
      ],
      "execution_count": 0,
      "outputs": []
    }
  ]
}